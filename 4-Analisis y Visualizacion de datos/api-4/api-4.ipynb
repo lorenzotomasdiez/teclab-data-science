{
 "cells": [
  {
   "cell_type": "markdown",
   "metadata": {},
   "source": [
    "# Análisis y visualización de datos | Lorenzo Tomás Diez\n",
    "## Actividad 4\n",
    "### Situación\n",
    "- Continuás armando el informe para esta empresa multinacional. Ahora que estás familiarizado con las distintas bases de datos y sus variables, podés empezar a plantear algunas hipótesis usando lo que aprendimos en este módulo.\n",
    "- Como en cualquier proyecto de datos, es importante que desde el comienzo vayas pensando (aunque sea en términos generales) cómo vas a presentar los resultados a tu audiencia, tus clientes. En este caso, es una audiencia que tiene mucho conocimiento de su industria en particular, pero no tiene tanto conocimiento técnico de análisis de datos. Ni, como mencionamos, de la economía y la sociedad de nuestro país.\n",
    "### Requerimientos\n",
    "- Para realizar esta actividad descargá el archivo ZIP, que encontrarás en la plataforma al final de este documento.\n",
    "### Consignas\n",
    "1. En función de lo que ya conocés de estas bases, planteá dos hipótesis, relacionándolas con las variables que están en las bases, recordá que tienen que estar en forma de afirmaciones.\n",
    "2. Hacé un análisis exploratorio en base a esas hipótesis y explicá si en principio la evidencia de los datos respalda esas hipótesis o no.\n",
    "3. Escribí un ejemplo de una afirmación que no permitan hacer los datos disponibles en estas bases.\n",
    "4. Describí dos o tres aspectos que tendrías en cuenta para comunicarlo a una audiencia no técnica."
   ]
  },
  {
   "cell_type": "markdown",
   "metadata": {},
   "source": [
    "# Parte 1: Hipotesis y analisis exploratorio de los datos"
   ]
  },
  {
   "cell_type": "code",
   "execution_count": null,
   "metadata": {},
   "outputs": [],
   "source": [
    "import pandas as pd\n",
    "import numpy as np\n",
    "import matplotlib.pyplot as plt\n",
    "import seaborn as sns\n",
    "\n",
    "# Cargar los datos\n",
    "df_empleos = pd.read_csv('../ARCHIVOS/empleo.csv', encoding='latin-1')\n",
    "df_exportaciones = pd.read_csv('../ARCHIVOS/exportaciones.csv', encoding='latin-1')"
   ]
  },
  {
   "cell_type": "code",
   "execution_count": null,
   "metadata": {},
   "outputs": [],
   "source": [
    "df_empleos.info()"
   ]
  },
  {
   "cell_type": "code",
   "execution_count": null,
   "metadata": {},
   "outputs": [],
   "source": [
    "df_exportaciones.head()"
   ]
  },
  {
   "cell_type": "code",
   "execution_count": null,
   "metadata": {},
   "outputs": [],
   "source": [
    "df_exportaciones['provincia'].unique()"
   ]
  },
  {
   "cell_type": "code",
   "execution_count": null,
   "metadata": {},
   "outputs": [],
   "source": [
    "df_exportaciones = df_exportaciones[df_exportaciones['provincia'] != 'Total País']\n",
    "df_exportaciones.head(10)"
   ]
  },
  {
   "cell_type": "code",
   "execution_count": null,
   "metadata": {},
   "outputs": [],
   "source": [
    "df_empleos['provincia'].unique()"
   ]
  },
  {
   "cell_type": "markdown",
   "metadata": {},
   "source": [
    "## Hipótesis 1: Existe una correlación positiva significativa entre el valor total de las exportaciones y el número de empleados registrados en las provincias argentinas para cada año.\n",
    "\n",
    "### El analisis exploratorio que vamos a realizar es el siguiente:\n",
    "#### 1. Preparar los datos:\n",
    "- Filtrar los datos de exportaciones y empleo para el mismo año (el más reciente disponible).\n",
    "- Agrupar los datos de exportaciones por provincia y calcular el total de exportaciones.\n",
    "- Calcular el promedio anual de empleados registrados por provincia.\n",
    "\n",
    "#### 2. Visualizar la relación:\n",
    "- Crear un gráfico de dispersión con exportaciones en el eje X y empleo en el eje Y.\n",
    "- Añadir una línea de tendencia para visualizar la correlación.\n",
    "\n",
    "#### 3. Calcular la correlación:\n",
    "- Utilizar el coeficiente de correlación de Pearson para cuantificar la relación.\n",
    "\n",
    "#### 4. Analizar outliers:\n",
    "- Identificar provincias que se desvían significativamente de la tendencia general.\n",
    "\n",
    "#### 5. Realizar un análisis temporal:\n",
    "- Si hay datos disponibles para varios años, analizar cómo ha evolucionado esta relación en el tiempo."
   ]
  },
  {
   "cell_type": "code",
   "execution_count": null,
   "metadata": {},
   "outputs": [],
   "source": [
    "df_empleos['anio'].unique()"
   ]
  },
  {
   "cell_type": "code",
   "execution_count": null,
   "metadata": {},
   "outputs": [],
   "source": [
    "df_exportaciones['anio'].unique()"
   ]
  },
  {
   "cell_type": "markdown",
   "metadata": {},
   "source": [
    "#### 1 - Preparar los datos:\n",
    "- Vamos a tomar el año 2020 para realizar el analisis, ya que es el año el cual tiene datos disponibles para ambas bases.\n",
    "- En empleos, vamos a tomar la media del ano 2020 para que sea un dato representativo. Finalmente eliminamos la columna 'mes' ya que no vamos a utilizarla.\n",
    "- En exportaciones, vamos a tomar el rubro 'Total' para luego eliminar la columna 'rubro'. Ademas vamos a renombrar la columna 'value' a 'exportaciones' para que sea mas claro."
   ]
  },
  {
   "cell_type": "code",
   "execution_count": null,
   "metadata": {},
   "outputs": [],
   "source": [
    "df_empleos_2020 = df_empleos[df_empleos['anio'] == 2020]\n",
    "df_empleos_2020 = df_empleos_2020.groupby('provincia').agg({'empleados_registrados_miles': 'mean'}).reset_index()\n",
    "df_empleos_2020.info()"
   ]
  },
  {
   "cell_type": "code",
   "execution_count": null,
   "metadata": {},
   "outputs": [],
   "source": [
    "df_exportaciones_2020 = df_exportaciones[df_exportaciones['anio'] == 2020]\n",
    "df_exportaciones_2020 = df_exportaciones_2020[df_exportaciones_2020['rubro'] == 'Total']\n",
    "df_exportaciones_2020.drop(columns=['anio', 'rubro'], inplace=True)\n",
    "df_exportaciones_2020.rename(columns={'value': 'exportaciones'}, inplace=True)\n",
    "df_exportaciones_2020['exportaciones'] = df_exportaciones_2020['exportaciones'].str.replace(',', '').astype(float)\n",
    "df_exportaciones_2020.info()"
   ]
  },
  {
   "cell_type": "markdown",
   "metadata": {},
   "source": [
    "Finalmente: \n",
    "- Vamos a hacer un merge de las bases, con provincia y anio como variables en comun."
   ]
  },
  {
   "cell_type": "code",
   "execution_count": null,
   "metadata": {},
   "outputs": [],
   "source": [
    "df_expo_empleo_2020 = pd.merge(df_exportaciones_2020, df_empleos_2020, on=['provincia'])\n",
    "df_expo_empleo_2020.head()"
   ]
  },
  {
   "cell_type": "markdown",
   "metadata": {},
   "source": [
    "#### 2 - Visualizar la relación:"
   ]
  },
  {
   "cell_type": "code",
   "execution_count": null,
   "metadata": {},
   "outputs": [],
   "source": [
    "plt.figure(figsize=(10, 6))\n",
    "\n",
    "ax = sns.regplot(x='exportaciones', y='empleados_registrados_miles', \n",
    "    data=df_expo_empleo_2020, \n",
    "    scatter_kws={'alpha':0.5}, \n",
    "    line_kws={'color': 'lightcoral'})\n",
    "ax.set_title('Relación entre Exportaciones y Empleados Registrados en 2020')\n",
    "ax.set_xlabel('Exportaciones (en millones)')\n",
    "ax.set_ylabel('Empleados Registrados (miles)')\n",
    "\n",
    "plt.tight_layout()\n",
    "plt.show()\n",
    "\n"
   ]
  },
  {
   "cell_type": "markdown",
   "metadata": {},
   "source": [
    "#### 3 - Calcular la correlación:"
   ]
  },
  {
   "cell_type": "code",
   "execution_count": null,
   "metadata": {},
   "outputs": [],
   "source": [
    "x = df_expo_empleo_2020['exportaciones']\n",
    "y = df_expo_empleo_2020['empleados_registrados_miles']\n",
    "\n",
    "matriz_correlacion = np.corrcoef(x, y)\n",
    "matriz_correlacion\n"
   ]
  },
  {
   "cell_type": "markdown",
   "metadata": {},
   "source": [
    "El valor 0.7246 sugiere una correlación positiva moderada a fuerte entre las dos variables.\n",
    "Pero puede estar influenciado por otros factores como la población de la provincia, la cantidad de empresas, etc.\n",
    "\n",
    "Vamos a analizar los valores atipicos:\n",
    "\n",
    "#### 4 - Análisis de valores atipicos:\n",
    "\n",
    "- Vamos a eliminar los valores atipicos, eliminando las provincias que se desvían significativamente de la tendencia general."
   ]
  },
  {
   "cell_type": "code",
   "execution_count": null,
   "metadata": {},
   "outputs": [],
   "source": [
    "Q1 = df_expo_empleo_2020['empleados_registrados_miles'].quantile(0.25)\n",
    "Q3 = df_expo_empleo_2020['empleados_registrados_miles'].quantile(0.75)\n",
    "IQR = Q3 - Q1\n",
    "limite_inferior = Q1 - 1.5 * IQR\n",
    "limite_superior = Q3 + 1.5 * IQR\n",
    "df_expo_empleo_2020_outliers = df_expo_empleo_2020[\n",
    "  (df_expo_empleo_2020['empleados_registrados_miles'] >= limite_inferior) & \n",
    "  (df_expo_empleo_2020['empleados_registrados_miles'] <= limite_superior)\n",
    "]\n",
    "df_expo_empleo_2020_outliers.info()\n"
   ]
  },
  {
   "cell_type": "markdown",
   "metadata": {},
   "source": [
    "Vemos que se han eliminado 4 provincias en nuestro analisis. Vamos a volver a graficar la relacion entre exportaciones e empleados registrados, pero esta vez sin los outliers."
   ]
  },
  {
   "cell_type": "code",
   "execution_count": null,
   "metadata": {},
   "outputs": [],
   "source": [
    "plt.figure(figsize=(10, 6))\n",
    "\n",
    "ax = sns.regplot(x='exportaciones', y='empleados_registrados_miles', \n",
    "    data=df_expo_empleo_2020_outliers, \n",
    "    scatter_kws={'alpha':0.5}, \n",
    "    line_kws={'color': 'lightcoral'})\n",
    "ax.set_title('Relación entre Exportaciones y Empleados Registrados en 2020')\n",
    "ax.set_xlabel('Exportaciones (en millones)')\n",
    "ax.set_ylabel('Empleados Registrados (miles)')\n",
    "\n",
    "plt.tight_layout()\n",
    "plt.show()"
   ]
  },
  {
   "cell_type": "markdown",
   "metadata": {},
   "source": [
    "Volvemos a calcular la correlacion:"
   ]
  },
  {
   "cell_type": "code",
   "execution_count": null,
   "metadata": {},
   "outputs": [],
   "source": [
    "\n",
    "x = df_expo_empleo_2020_outliers['exportaciones']\n",
    "y = df_expo_empleo_2020_outliers['empleados_registrados_miles']\n",
    "\n",
    "matriz_correlacion = np.corrcoef(x, y)\n",
    "matriz_correlacion"
   ]
  },
  {
   "cell_type": "markdown",
   "metadata": {},
   "source": [
    "El resultado es de 0.3951, lo cual es una correlacion positiva baja. Esto nos indica que los valores atipicos estaban influyendo en la correlacion."
   ]
  },
  {
   "cell_type": "markdown",
   "metadata": {},
   "source": [
    "#### 5 - Análisis temporal:\n",
    "\n",
    "- Ahora vamos a aplicar la misma logica pero con mas anos, para verificar que nuestro anilisis no este sesgado por un solo ano.\n",
    "- Vamos a tomar desde 2009 a 2020 ya que son los anios que comparten ambas bases.\n"
   ]
  },
  {
   "cell_type": "code",
   "execution_count": null,
   "metadata": {},
   "outputs": [],
   "source": [
    "df_expo_total = df_exportaciones[df_exportaciones['rubro'] == 'Total'].copy()\n",
    "df_expo_total.drop(columns=['rubro'], inplace=True)\n",
    "df_expo_total['value'] = df_expo_total['value'].str.replace(',', '').astype(float)\n",
    "df_expo_total.rename(columns={'value': 'exportaciones'}, inplace=True)\n",
    "df_expo_total = df_expo_total[df_expo_total['anio'].isin(range(2009, 2021))]\n",
    "df_expo_total.info()"
   ]
  },
  {
   "cell_type": "code",
   "execution_count": null,
   "metadata": {},
   "outputs": [],
   "source": [
    "df_empleo_total = df_empleos[df_empleos['anio'].isin(range(2009, 2021))].copy()\n",
    "df_empleo_total = df_empleo_total.groupby(['anio', 'provincia']).agg({'empleados_registrados_miles': 'mean'}).reset_index()\n",
    "df_empleo_total.info()"
   ]
  },
  {
   "cell_type": "code",
   "execution_count": null,
   "metadata": {},
   "outputs": [],
   "source": [
    "df_expo_empleo_total = pd.merge(df_expo_total, df_empleo_total, on=['anio', 'provincia'])\n",
    "df_expo_empleo_total.info()"
   ]
  },
  {
   "cell_type": "code",
   "execution_count": null,
   "metadata": {},
   "outputs": [],
   "source": [
    "Q1_empleo_expo_total = df_expo_empleo_total['empleados_registrados_miles'].quantile(0.25)\n",
    "Q3_empleo_expo_total = df_expo_empleo_total['empleados_registrados_miles'].quantile(0.75)\n",
    "\n",
    "IQR_empleo_expo_total = Q3_empleo_expo_total - Q1_empleo_expo_total\n",
    "\n",
    "limite_inferior_empleo_expo_total = Q1_empleo_expo_total - 1.5 * IQR_empleo_expo_total\n",
    "limite_superior_empleo_expo_total = Q3_empleo_expo_total + 1.5 * IQR_empleo_expo_total\n",
    "\n",
    "df_expo_empleo_total_outliers = df_expo_empleo_total[\n",
    "  (df_expo_empleo_total['empleados_registrados_miles'] >= limite_inferior_empleo_expo_total) & \n",
    "  (df_expo_empleo_total['empleados_registrados_miles'] <= limite_superior_empleo_expo_total)\n",
    "]\n",
    "df_expo_empleo_total_outliers.info()"
   ]
  },
  {
   "cell_type": "code",
   "execution_count": null,
   "metadata": {},
   "outputs": [],
   "source": [
    "\n",
    "plt.figure(figsize=(10, 6))\n",
    "\n",
    "ax = sns.regplot(x='exportaciones', y='empleados_registrados_miles', \n",
    "    data=df_expo_empleo_total_outliers, \n",
    "    scatter_kws={'alpha':0.5}, \n",
    "    line_kws={'color': 'lightcoral'})\n",
    "ax.set_title('Relación entre Exportaciones y Empleados Registrados en 2020')\n",
    "ax.set_xlabel('Exportaciones (en millones)')\n",
    "ax.set_ylabel('Empleados Registrados (miles)')\n",
    "\n",
    "plt.tight_layout()\n",
    "plt.show()"
   ]
  },
  {
   "cell_type": "markdown",
   "metadata": {},
   "source": [
    "Verificamos la correlacion:"
   ]
  },
  {
   "cell_type": "code",
   "execution_count": null,
   "metadata": {},
   "outputs": [],
   "source": [
    "\n",
    "x = df_expo_empleo_total_outliers['exportaciones']\n",
    "y = df_expo_empleo_total_outliers['empleados_registrados_miles']\n",
    "\n",
    "matriz_correlacion_total = np.corrcoef(x, y)\n",
    "matriz_correlacion_total"
   ]
  },
  {
   "cell_type": "markdown",
   "metadata": {},
   "source": [
    "El valor es 0.3744, lo cual es una correlacion positiva baja."
   ]
  },
  {
   "cell_type": "markdown",
   "metadata": {},
   "source": [
    "### Conclusion:\n",
    "- La correlacion entre exportaciones e empleados registrados es baja, lo cual nos indica que no hay una relacion lineal estrecha entre ambas variables.\n",
    "- El analisis temporal reafirma que la correlacion es baja y no presenta una tendencia clara a lo largo de los anios.\n",
    "- Por lo tanto, no podemos afirmar que exista una correlacion significativa entre el valor total de las exportaciones y el número de empleados registrados en las provincias argentinas para cada año.\n"
   ]
  },
  {
   "cell_type": "markdown",
   "metadata": {},
   "source": [
    "### Hipótesis 2: Existe una variación estacional significativa en el número de empleos registrados en las provincias argentinas, con un aumento durante los meses de primavera (septiembre a noviembre) y una disminución durante los meses de invierno (junio a agosto), cada anio.\n",
    "\n",
    "#### 1. Preparar los datos:\n",
    "- Filtrar los datos por provincia y mes: Asegúrate de tener los datos mensuales de empleos registrados en las provincias.\n",
    "- Agrupar los datos por provincia y mes: Esto te permitirá analizar las tendencias a lo largo del tiempo para cada provincia.\n",
    "- Definir las estaciones: Crea una nueva columna que clasifique los meses en sus respectivas estaciones (invierno, primavera, verano, otoño).\n",
    "\n",
    "#### 2. Visualizar la variación estacional:\n",
    "- Crear un gráfico de líneas o barras para visualizar el número de empleados registrados por provincia y estación del año.\n",
    "- Comparar las estaciones de primavera e invierno para ver las diferencias en la cantidad de empleados.\n",
    "\n",
    "#### 3. Calcular la variación estacional:\n",
    "- Calcular el promedio de empleados registrados para cada estación del año (primavera, invierno, verano, otoño) por provincia.\n",
    "- Comparar los promedios de primavera e invierno para verificar si existe una diferencia significativa.\n",
    "\n",
    "#### 4. Analizar outliers:\n",
    "- Identificar provincias que se desvíen significativamente de la tendencia general en cuanto a la variación estacional."
   ]
  },
  {
   "cell_type": "markdown",
   "metadata": {},
   "source": [
    "#### 1 - Preparar los datos:\n",
    "- Vamos a tomar los datos de 2019-2021 para que sea un periodo representativo.\n",
    "- Vamos a crear la columna 'estacion' que clasifique los meses en sus respectivas estaciones.\n",
    "- Vamos a eliminar la columna 'mes' ya que no vamos a utilizarla.\n",
    "- Vamos a tomar solo las estaciones de primavera e invierno para que sea mas facil de visualizar.\n",
    "- Finalmente vamos a calcular el promedio de empleados registrados para cada estación del año (primavera, invierno, verano, otoño) por provincia."
   ]
  },
  {
   "cell_type": "code",
   "execution_count": null,
   "metadata": {},
   "outputs": [],
   "source": [
    "estaciones = {\n",
    "  'verano': ['dic', 'ene', 'feb'],\n",
    "  'otonio': ['mar', 'abr', 'may'],\n",
    "  'invierno': ['jun', 'jul', 'ago'],\n",
    "  'primavera': ['sep', 'oct', 'nov']\n",
    "}\n",
    "def clasificar_estacion(mes_ingresado):\n",
    "  for estacion, meses in estaciones.items():\n",
    "    for mes in meses:\n",
    "      if mes in mes_ingresado:\n",
    "        return estacion\n",
    "  return 'desconocido'\n",
    "\n",
    "test_estacion = clasificar_estacion('mar-21')\n",
    "test_estacion\n"
   ]
  },
  {
   "cell_type": "code",
   "execution_count": null,
   "metadata": {},
   "outputs": [],
   "source": [
    "df_empleos_estacion_2019_2021 = df_empleos[df_empleos['anio'].isin([2019, 2020, 2021])].copy()\n",
    "df_empleos_estacion_2019_2021['estacion'] = df_empleos_estacion_2019_2021['mes'].apply(clasificar_estacion)\n",
    "df_empleos_estacion_2019_2021 = df_empleos_estacion_2019_2021[df_empleos_estacion_2019_2021['estacion'].isin(['primavera', 'invierno'])]\n",
    "df_empleos_estacion_2019_2021.drop(columns=['mes'], inplace=True)\n",
    "df_empleos_estacion_2019_2021 = df_empleos_estacion_2019_2021.groupby(['provincia', 'estacion']).agg({'empleados_registrados_miles': 'median'}).reset_index()\n",
    "df_empleos_estacion_2019_2021.head(10)"
   ]
  },
  {
   "cell_type": "markdown",
   "metadata": {},
   "source": [
    "#### 2 - Visualizar la variación estacional:\n",
    "- Vamos a crear un grafico de barras para visualizar el numero de empleados registrados por provincia y estacion."
   ]
  },
  {
   "cell_type": "code",
   "execution_count": null,
   "metadata": {},
   "outputs": [],
   "source": [
    "\n",
    "plt.figure(figsize=(12, 8))\n",
    "\n",
    "ax = sns.barplot(x='empleados_registrados_miles', y='provincia', hue='estacion', data=df_empleos_estacion_2019_2021)\n",
    "ax.set_title('Empleados Registrados por Provincia y Estación del Año (2019-2021)')\n",
    "ax.set_xlabel('Empleados Registrados (miles)')\n",
    "ax.set_ylabel('Provincia')\n",
    "\n",
    "plt.tight_layout()\n",
    "plt.show()\n",
    "\n"
   ]
  },
  {
   "cell_type": "markdown",
   "metadata": {},
   "source": [
    "#### 3 - Calcular la variación estacional\n",
    "- Vamos a comparar los promedios de primavera e invierno para verificar si existe una diferencia significativa."
   ]
  },
  {
   "cell_type": "markdown",
   "metadata": {},
   "source": [
    "\n"
   ]
  },
  {
   "cell_type": "code",
   "execution_count": null,
   "metadata": {},
   "outputs": [],
   "source": [
    "\n",
    "# Calcular el promedio de empleados registrados para primavera e invierno\n",
    "promedios_estacionales = df_empleos_estacion_2019_2021.groupby('estacion').agg({'empleados_registrados_miles': 'mean'}).reset_index();\n",
    "promedios_estacionales"
   ]
  },
  {
   "cell_type": "markdown",
   "metadata": {},
   "source": [
    "### Conclusion:\n",
    "- Existe una diferencia a favor de la estacion de primavera.\n",
    "- La diferencia que existe, no es muy significativa, lo cual nos indica que la variacion estacional no es muy pronunciada."
   ]
  },
  {
   "cell_type": "markdown",
   "metadata": {},
   "source": [
    "# Parte 2: Afirmaciones que no permiten hacer los datos disponibles\n",
    "\n",
    "#### Afirmacion 1: Las provincias con mayor cantidad de habitantes tienden a tener una mayor cantidad de empleos registrados.\n",
    "\n",
    "#### Afirmacion 2: Las provincias con mayor cantidad de habitantes tienden a tener mayor cantidad de exportaciones.\n"
   ]
  },
  {
   "cell_type": "markdown",
   "metadata": {},
   "source": [
    "# Parte 3: Comunicacion\n",
    "- Debemos usar terminos simples y claros, evitando el tecnisismo, podemos mostrar los datos de manera visual, utilizando graficos claros y faciles de entender.\n",
    "- Usar un lenguaje accesible y evadir el uso de palabras difíciles de entender.\n",
    "- Proporcionar información adicional sobre los datos, las limitaciones del estudio y los posibles sesgos."
   ]
  }
 ],
 "metadata": {
  "kernelspec": {
   "display_name": "Python 3",
   "language": "python",
   "name": "python3"
  },
  "language_info": {
   "codemirror_mode": {
    "name": "ipython",
    "version": 3
   },
   "file_extension": ".py",
   "mimetype": "text/x-python",
   "name": "python",
   "nbconvert_exporter": "python",
   "pygments_lexer": "ipython3",
   "version": "3.9.6"
  }
 },
 "nbformat": 4,
 "nbformat_minor": 2
}
