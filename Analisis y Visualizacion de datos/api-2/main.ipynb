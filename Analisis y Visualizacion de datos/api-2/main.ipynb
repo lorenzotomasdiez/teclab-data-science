{
 "cells": [
  {
   "cell_type": "markdown",
   "metadata": {},
   "source": [
    "# Análisis y visualización de datos\n",
    "### Actividad 2\n",
    "### Situación\n",
    "- Una vez que se entregó la primera parte del informe, continuás con la segunda parte, enfocada en los aspectos demográficos y sociales. Los datos para esta sección no están completamente listos para analizar, necesitan preprocesamiento antes de poder construir los gráficos o tablas. Como sabés, algunas de estas tareas son más prácticas y eficientes haciéndolas en Python que manualmente (en Excel, por ejemplo).\n",
    "### Requerimientos\n",
    "- Para realizar esta actividad descargá el archivo ZIP, que encontrarás en la plataforma al final de este documento.\n",
    "Importante: AI momento de importar los archivos .csv, usando pd.read_csv(), usar la opción encoding = \"latin-1 \" para que importe correctamente los nombres de las provincias con tildes.\n",
    "### Consignas\n",
    "- Como próximo paso, decidís integrar distintas bases de datos que tenés disponibles. Estas contienen variables demográficas: población, hogares y viviendas, esperanza de vida y fecundidad.\n",
    "1. En Jupyter, creá un nuevo notebook e importó las librerías necesarias, y luego la base de proyecciones de población por año (en formato .csv) y las otras (ej. expectativa de vida, fecundidad). Tené en cuenta que algunas bases contienen datos de varios años y otras tienen únicamente el año del censo 2010. Hacé los chequeos básicos (head, describe, etc.).\n",
    "2. Calculá un campo nuevo, densidad (población/superficie) y usar la función descrita sobre ese campo nuevo.\n",
    "3. Identificá si existe algún valor extremo en la densidad de población y explicó a qué podría deberse esto."
   ]
  },
  {
   "cell_type": "code",
   "execution_count": 1,
   "metadata": {},
   "outputs": [
    {
     "name": "stdout",
     "output_type": "stream",
     "text": [
      "10\n"
     ]
    }
   ],
   "source": [
    "a = 10\n",
    "print(a)"
   ]
  }
 ],
 "metadata": {
  "kernelspec": {
   "display_name": "Python 3",
   "language": "python",
   "name": "python3"
  },
  "language_info": {
   "codemirror_mode": {
    "name": "ipython",
    "version": 3
   },
   "file_extension": ".py",
   "mimetype": "text/x-python",
   "name": "python",
   "nbconvert_exporter": "python",
   "pygments_lexer": "ipython3",
   "version": "3.10.12"
  }
 },
 "nbformat": 4,
 "nbformat_minor": 2
}
