{
 "cells": [
  {
   "cell_type": "markdown",
   "metadata": {},
   "source": [
    "### Situación:\n",
    "- Una cadena de comida rápida contrata a un desarrollador con el objetivo de administrar todas las tareas relacionadas a la informática y procesamiento de datos. En su primer día de trabajo, se solicita que se muestre en una pantalla LCD el menú que se encuentra en promoción. Se le indica al trabajador que la empresa cuenta con un sistema que puede leer mensajes mostrados en una terminal, y procesados para ser visualizados de manera gráfica."
   ]
  },
  {
   "cell_type": "markdown",
   "metadata": {},
   "source": [
    "### Consigna\n",
    "- Escribir un script que muestre por pantalla el mensaje: Menú del día: Hamburguesas.\n",
    "- ¿Cuáles son los pasos que se debieron seguir desde la apertura del IDE, hasta ver ese texto en pantalla?"
   ]
  },
  {
   "cell_type": "code",
   "execution_count": 1,
   "metadata": {},
   "outputs": [
    {
     "name": "stdout",
     "output_type": "stream",
     "text": [
      "Menú del día: Hamburguesas.\n"
     ]
    }
   ],
   "source": [
    "message = \"Menú del día: Hamburguesas.\"\n",
    "print(message)"
   ]
  },
  {
   "cell_type": "markdown",
   "metadata": {},
   "source": [
    "### Respuesta:\n",
    "Los pasos a seguir que se debieron seguir desde la apertura del IDE, hasta ver el texto en pantalla son los siguientes:\n",
    "- Crear carpeta de trabajo.\n",
    "- Abrir el IDE.\n",
    "- Abrir carpeta de trabajo.\n",
    "- Crear un archivo con extensión .py.\n",
    "- Crear la variable que va a contener el mensaje.\n",
    "- Asignar el valor a la variable con el contenido string de \"Menú del día: Hamburguesas\".\n",
    "- Imprimir la variable en pantalla utilizando la funcion print y referenciando la variable creada."
   ]
  }
 ],
 "metadata": {
  "kernelspec": {
   "display_name": "Python 3",
   "language": "python",
   "name": "python3"
  },
  "language_info": {
   "codemirror_mode": {
    "name": "ipython",
    "version": 3
   },
   "file_extension": ".py",
   "mimetype": "text/x-python",
   "name": "python",
   "nbconvert_exporter": "python",
   "pygments_lexer": "ipython3",
   "version": "3.9.6"
  }
 },
 "nbformat": 4,
 "nbformat_minor": 2
}
