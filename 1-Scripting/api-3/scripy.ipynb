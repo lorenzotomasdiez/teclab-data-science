{
 "cells": [
  {
   "cell_type": "markdown",
   "metadata": {},
   "source": [
    "## Objetivos\n",
    "---\n",
    "Como parte de su estrategia de marketing, la cadena de comida rápida busca recolectar información sobre las personas que realizan compras para poder dirigir mensajes de manera personalizada la siguiente vez que ellos visiten el local.\n",
    "Para poder cumplir con este objetivo, te solicitan que realices la tarea operativa de cargar datos de usuarios que visitaron el local y mostrarlos en pantalla. Para poder automatizar esta operación, decidís usar el lenguaje de programación Python, utilizando diccionarios para cumplir esta tarea.\n"
   ]
  },
  {
   "cell_type": "markdown",
   "metadata": {},
   "source": [
    "## Situación\n",
    "---\n",
    "Una cadena de comida rápida contrata a un desarrollador con el objetivo de administrar todas las tareas relacionadas a la informática y procesamiento de datos. En su primer día de trabajo, se solicita que se muestre en una pantalla LCD el menú que se encuentra en promoción. Se le indica al trabajador que la empresa cuenta con un sistema que puede leer mensajes mostrados en una terminal, y procesados para ser visualizados de manera gráfica."
   ]
  },
  {
   "cell_type": "markdown",
   "metadata": {},
   "source": [
    "## Consigna\n",
    "---\n",
    "1. Deberás crear un diccionario que contenga los siguientes datos: \n",
    "- Nombre: Juan\n",
    "- Apellido: Perez\n",
    "- Edad: 34\n",
    "2. Posteriormente a la creación del mismo, se debe consultar al usuario por pantalla el dato “Nacionalidad”, ya que es un dato que no consta en la base de datos y debe ser actualizado. Esta variable debe ser ingresada a través de la terminal durante la ejecución del programa, y se agregará al diccionario.\n",
    "3. Una vez ingresado el dato, se muestra en pantalla un texto diciendo “El nombre es <nombre> <apellido>, tiene <edad> años, y es de nacionalidad <nacionalidad>”"
   ]
  },
  {
   "cell_type": "code",
   "execution_count": 8,
   "metadata": {},
   "outputs": [
    {
     "name": "stdout",
     "output_type": "stream",
     "text": [
      "El nombre es: Juan Perez, tiene 34 años y es de nacionalidad ar\n"
     ]
    }
   ],
   "source": [
    "person = {\n",
    "  \"nombre\": \"Juan\",\n",
    "  \"apellido\": \"Perez\",\n",
    "  \"edad\": 34,\n",
    "}\n",
    "\n",
    "\n",
    "nacionalidad = input(\"Nacionalidad: \")\n",
    "\n",
    "person[\"nacionalidad\"] = nacionalidad\n",
    "\n",
    "message = f\"El nombre es: {person['nombre']} {person['apellido']}, tiene {person['edad']} años y es de nacionalidad {person['nacionalidad']}\"\n",
    "\n",
    "print(message)"
   ]
  }
 ],
 "metadata": {
  "kernelspec": {
   "display_name": "Python 3",
   "language": "python",
   "name": "python3"
  },
  "language_info": {
   "codemirror_mode": {
    "name": "ipython",
    "version": 3
   },
   "file_extension": ".py",
   "mimetype": "text/x-python",
   "name": "python",
   "nbconvert_exporter": "python",
   "pygments_lexer": "ipython3",
   "version": "3.9.6"
  }
 },
 "nbformat": 4,
 "nbformat_minor": 2
}
