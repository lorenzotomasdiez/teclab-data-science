{
 "cells": [
  {
   "cell_type": "markdown",
   "metadata": {},
   "source": [
    "## Objetivos\n",
    "---\n",
    "En esta actividad se busca que te posiciones en el lugar de profesional para lograr resolverla de la forma más acorde utilizando los conceptos vistos durante el módulo 4 de la materia."
   ]
  },
  {
   "cell_type": "markdown",
   "metadata": {},
   "source": [
    "## Situación\n",
    "---\n",
    "En muchas entrevistas de trabajo se suele evaluar las aptitudes técnicas de los candidatos a través de pequeños ejercicios de código. Un ejercicio muy famoso que se suele realizar es el denominado fizz buzz.\n",
    "La empresa que te contrató quiere ampliar el equipo desarrollador, por lo que decide como parte del proceso de selección evaluar las aptitudes técnicas de los contactos a partir del ejercicio fizz buzz."
   ]
  },
  {
   "cell_type": "markdown",
   "metadata": {},
   "source": [
    "## Consigna\n",
    "---\n",
    "Se espera que, como el profesional a cargo del proceso, puedas resolverlo como cualquier candidato que se postule para el puesto. El ejercicio consiste en recorrer una serie de números, del 1 al 20, y evaluar las siguientes condiciones:\n",
    "1. Si el número es divisible por 3, se imprimirá en pantalla el mensaje “Fizz”.\n",
    "2. Si el número es divisible por 5, se imprimirá en pantalla el mensaje “Buzz”.\n",
    "3. Si el número es divisible por 3 y por 5, se impimirá en pantalla el mensaje “Fizz Buzz”.\n",
    "4. Para el resto de los números que no cumple ninguna de las condiciones anteriores, se mostrará en pantalla el mismo número."
   ]
  },
  {
   "cell_type": "code",
   "execution_count": 4,
   "metadata": {},
   "outputs": [
    {
     "name": "stdout",
     "output_type": "stream",
     "text": [
      "1\n",
      "2\n",
      "Fizz\n",
      "4\n",
      "Buzz\n",
      "Fizz\n",
      "7\n",
      "8\n",
      "Fizz\n",
      "Buzz\n",
      "11\n",
      "Fizz\n",
      "13\n",
      "14\n",
      "Fizz Buzz\n",
      "16\n",
      "17\n",
      "Fizz\n",
      "19\n"
     ]
    }
   ],
   "source": [
    "for number in range(1, 20):\n",
    "  is_divisible_by_3 = number % 3 == 0\n",
    "  is_divisible_by_5 = number % 5 == 0\n",
    "  if(is_divisible_by_3 and is_divisible_by_5):\n",
    "    print(\"Fizz Buzz\")\n",
    "    continue\n",
    "  if(is_divisible_by_3):\n",
    "    print(\"Fizz\")\n",
    "    continue\n",
    "  if(is_divisible_by_5):\n",
    "    print(\"Buzz\")\n",
    "    continue\n",
    "  print(number)"
   ]
  }
 ],
 "metadata": {
  "kernelspec": {
   "display_name": "Python 3",
   "language": "python",
   "name": "python3"
  },
  "language_info": {
   "codemirror_mode": {
    "name": "ipython",
    "version": 3
   },
   "file_extension": ".py",
   "mimetype": "text/x-python",
   "name": "python",
   "nbconvert_exporter": "python",
   "pygments_lexer": "ipython3",
   "version": "3.9.6"
  }
 },
 "nbformat": 4,
 "nbformat_minor": 2
}
