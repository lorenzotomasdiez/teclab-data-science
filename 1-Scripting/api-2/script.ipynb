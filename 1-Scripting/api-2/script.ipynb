{
 "cells": [
  {
   "cell_type": "markdown",
   "metadata": {},
   "source": [
    "# Scripting\n",
    "### Actividad 2"
   ]
  },
  {
   "cell_type": "markdown",
   "metadata": {},
   "source": [
    "## Objetivos\n",
    "---\n",
    "- Con el objetivo de mostrar los precios de los productos de la cadena de comida rápida, se debe realizar una serie de operaciones para poder calcular el valor de los mismos, y mostrarlos en la pantalla con el formato esperado. Para poder realizar esto, se te indican los distintos componentes que involucran cada precio, y la operación que debe realizarse entre ellos, para luego mostrarlos en pantalla de determinada manera, probablemente convirtiendo el tipo de dato obtenido como resultado."
   ]
  },
  {
   "cell_type": "markdown",
   "metadata": {},
   "source": [
    "## Situacion\n",
    "---\n",
    "Una cadena de comida rápida contrata a un desarrollador con el objetivo de administrar todas las tareas relacionadas a la informática y procesamiento de datos. En su primer día de trabajo, se solicita que se muestre en una pantalla LCD el menú que se encuentra en promoción. Se le indica al trabajador que la empresa cuenta con un sistema que puede leer mensajes mostrados en una terminal, y procesados para ser visualizados de manera gráfica."
   ]
  },
  {
   "cell_type": "markdown",
   "metadata": {},
   "source": [
    "## Consigna\n",
    "---\n",
    "\n",
    "Deberás realizar las siguientes operaciones:\n",
    "1. Guardar en una variable el resultado de la suma de 10 y 3. Mostrar en la pantalla el resultado como un número flotante.\n",
    "2. Guardar en una variable el cociente entre 10 y 3. En la pantalla se debe mostrar un número entero.\n",
    "3. Guardar en una variable el producto entre 5 y 2. En la pantalla se debe mostrar un número flotante."
   ]
  },
  {
   "cell_type": "markdown",
   "metadata": {},
   "source": [
    "### Consigna 1"
   ]
  },
  {
   "cell_type": "code",
   "execution_count": 1,
   "metadata": {},
   "outputs": [
    {
     "name": "stdout",
     "output_type": "stream",
     "text": [
      "13.0\n"
     ]
    }
   ],
   "source": [
    "task_one = 10 + 3\n",
    "print(float(task_one))"
   ]
  },
  {
   "cell_type": "markdown",
   "metadata": {},
   "source": [
    "### Consigna 2"
   ]
  },
  {
   "cell_type": "code",
   "execution_count": 2,
   "metadata": {},
   "outputs": [
    {
     "name": "stdout",
     "output_type": "stream",
     "text": [
      "3\n"
     ]
    }
   ],
   "source": [
    "task_two = 10/3\n",
    "print(int(task_two))"
   ]
  },
  {
   "cell_type": "markdown",
   "metadata": {},
   "source": [
    "### Consigna 3"
   ]
  },
  {
   "cell_type": "code",
   "execution_count": 3,
   "metadata": {},
   "outputs": [
    {
     "name": "stdout",
     "output_type": "stream",
     "text": [
      "10.0\n"
     ]
    }
   ],
   "source": [
    "task_three = 5*2\n",
    "print(float(task_three))"
   ]
  }
 ],
 "metadata": {
  "kernelspec": {
   "display_name": "Python 3",
   "language": "python",
   "name": "python3"
  },
  "language_info": {
   "codemirror_mode": {
    "name": "ipython",
    "version": 3
   },
   "file_extension": ".py",
   "mimetype": "text/x-python",
   "name": "python",
   "nbconvert_exporter": "python",
   "pygments_lexer": "ipython3",
   "version": "3.9.6"
  }
 },
 "nbformat": 4,
 "nbformat_minor": 2
}
