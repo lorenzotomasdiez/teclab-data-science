{
 "cells": [
  {
   "cell_type": "markdown",
   "metadata": {},
   "source": [
    "\n",
    "# Contexto\n",
    "---\n",
    "Después de haber realizado las actividades de los módulos 1 y 2, la empresa Data-Lab observa que estamos avanzando exitosamente.\n",
    "Continuando con el proceso de onboarding sobre procesamiento de datos, nos piden en este módulo que demostremos nuestros conocimientos relacionados con el ordenamiento de datos, donde debemos realizar los siguientes ejercicios que les permitirá conocer si sabemos lo necesario para ordenar."
   ]
  },
  {
   "cell_type": "markdown",
   "metadata": {},
   "source": [
    "\n",
    "## Consignas\n",
    "--- "
   ]
  },
  {
   "cell_type": "markdown",
   "metadata": {},
   "source": [
    "- 1 - Generar con pandas una serie de marcas de autos (Marcas_Autos), por ejemplo \"RENAULT\",\"BMW\", \"TOYOTA\", \"FORD\",\"CITROEN\", \"FIAT\",\n",
    "y compartir el output en una captura de pantalla donde se demuestre el orden de las marcas de manera alfabética."
   ]
  },
  {
   "cell_type": "code",
   "execution_count": 2,
   "metadata": {},
   "outputs": [
    {
     "data": {
      "text/plain": [
       "1        BMW\n",
       "4    CITROEN\n",
       "5       FIAT\n",
       "3       FORD\n",
       "0    RENAULT\n",
       "2     TOYOTA\n",
       "dtype: object"
      ]
     },
     "execution_count": 2,
     "metadata": {},
     "output_type": "execute_result"
    }
   ],
   "source": [
    "import pandas as pd\n",
    "\n",
    "marcas_autos = pd.Series([\"RENAULT\",\"BMW\", \"TOYOTA\", \"FORD\",\"CITROEN\", \"FIAT\"])\n",
    "\n",
    "marcas_autos.sort_values()\n"
   ]
  },
  {
   "cell_type": "markdown",
   "metadata": {},
   "source": [
    "- 2 - Usando pandas, vamos a crear un DataFrame que contenga: usuarios, fecha, cantidad de consultas. Compartir el output en una captura de pantalla donde se demuestre el DataFrame con sus datos requeridos.\n",
    "`Ejemplo de fecha: '2023-01-23'.`\n",
    "`Ejemplo de usuario: 'gcastillo'. Ejemplo de consulta: 7.`"
   ]
  },
  {
   "cell_type": "code",
   "execution_count": 6,
   "metadata": {},
   "outputs": [
    {
     "name": "stdout",
     "output_type": "stream",
     "text": [
      "        fecha    usuario  cantidad_consultas\n",
      "0  2023-01-23  gcastillo                   7\n",
      "1  2023-01-23    gfasito                   2\n",
      "2  2023-01-23    ptrebuq                   3\n",
      "3  2023-01-23     jviale                  13\n"
     ]
    }
   ],
   "source": [
    "consultas = pd.DataFrame([\n",
    "  {\n",
    "    \"fecha\":\"2023-01-23\",\n",
    "    \"usuario\": \"gcastillo\",\n",
    "    \"cantidad_consultas\": 7,\n",
    "  },{\n",
    "    \"fecha\":\"2023-01-23\",\n",
    "    \"usuario\": \"gfasito\",\n",
    "    \"cantidad_consultas\": 2,\n",
    "  },{\n",
    "    \"fecha\":\"2023-01-23\",\n",
    "    \"usuario\": \"ptrebuq\",\n",
    "    \"cantidad_consultas\": 3,\n",
    "  }, {\n",
    "    \"fecha\":\"2023-01-23\",\n",
    "    \"usuario\": \"jviale\",\n",
    "    \"cantidad_consultas\": 13,\n",
    "  }])\n",
    "print(consultas)"
   ]
  },
  {
   "cell_type": "markdown",
   "metadata": {},
   "source": [
    "### Solucion B"
   ]
  },
  {
   "cell_type": "code",
   "execution_count": 8,
   "metadata": {},
   "outputs": [
    {
     "name": "stdout",
     "output_type": "stream",
     "text": [
      "        fecha   usuarios  cantidad_consultas\n",
      "0  2023-01-23  gcastillo                   7\n",
      "1  2023-01-23    gfasito                   2\n",
      "2  2023-01-23    ptrebuq                   3\n",
      "3  2023-01-23     jviale                  13\n"
     ]
    }
   ],
   "source": [
    "listas = [[\"2023-01-23\", \"gcastillo\", 7], [\"2023-01-23\", \"gfasito\", 2], [\"2023-01-23\", \"ptrebuq\", 3], [\"2023-01-23\", \"jviale\", 13]]\n",
    "consultasb = pd.DataFrame(listas, columns=[\"fecha\", \"usuarios\", \"cantidad_consultas\"])\n",
    "print(consultasb)"
   ]
  },
  {
   "cell_type": "markdown",
   "metadata": {},
   "source": [
    "\n",
    "- 3 – El objetivo general es crear una tabla dinámica usando pandas a través de un DataFrame. En este ejercicio debemos compartir el output en una captura de pantalla en 2 pasos. En el primer paso, mostrar el DataFrame con sus datos requeridos, llamado (planilla_enero) que contenga los siguientes datos aleatorios: \"Nombre\", \"Fecha\", \"Consumos Mensuales\".\n",
    "En el segundo paso, compartir el output en una captura de pantalla de la creación de la tabla dinámica usando el DataFrame planilla_enero."
   ]
  },
  {
   "cell_type": "markdown",
   "metadata": {},
   "source": [
    "### Paso 1"
   ]
  },
  {
   "cell_type": "code",
   "execution_count": 26,
   "metadata": {},
   "outputs": [
    {
     "name": "stdout",
     "output_type": "stream",
     "text": [
      "    Nombre       Fecha  Consumos Mensuales\n",
      "0     Juan  2023-01-23                1000\n",
      "1    Tomas  2022-01-03                 670\n",
      "2  Aurelio  2022-03-15                  50\n"
     ]
    }
   ],
   "source": [
    "planilla_enero = pd.DataFrame([\n",
    "  [\"Juan\", \"2023-01-23\", 1000], \n",
    "  [\"Tomas\", \"2022-01-03\", 670], \n",
    "  [\"Aurelio\", \"2022-03-15\", 50],\n",
    "  ], \n",
    "  columns=[\"Nombre\", \"Fecha\", \"Consumos Mensuales\"]\n",
    ")\n",
    "print(planilla_enero)"
   ]
  },
  {
   "cell_type": "markdown",
   "metadata": {},
   "source": [
    "### Paso 2"
   ]
  },
  {
   "cell_type": "code",
   "execution_count": 27,
   "metadata": {},
   "outputs": [
    {
     "name": "stdout",
     "output_type": "stream",
     "text": [
      "Fecha    2022-01-03  2022-03-15  2023-01-23\n",
      "Nombre                                     \n",
      "Aurelio         0.0        50.0         0.0\n",
      "Juan            0.0         0.0      1000.0\n",
      "Tomas         670.0         0.0         0.0\n"
     ]
    }
   ],
   "source": [
    "tabla_dinamica = pd.pivot_table(planilla_enero, values=\"Consumos Mensuales\", index=\"Nombre\", columns=\"Fecha\", fill_value=0)\n",
    "print(tabla_dinamica)"
   ]
  }
 ],
 "metadata": {
  "kernelspec": {
   "display_name": "Python 3",
   "language": "python",
   "name": "python3"
  },
  "language_info": {
   "codemirror_mode": {
    "name": "ipython",
    "version": 3
   },
   "file_extension": ".py",
   "mimetype": "text/x-python",
   "name": "python",
   "nbconvert_exporter": "python",
   "pygments_lexer": "ipython3",
   "version": "3.9.6"
  }
 },
 "nbformat": 4,
 "nbformat_minor": 2
}
