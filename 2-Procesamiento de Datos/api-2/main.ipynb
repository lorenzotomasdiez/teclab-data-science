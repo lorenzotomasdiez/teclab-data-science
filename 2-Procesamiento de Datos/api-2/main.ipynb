{
 "cells": [
  {
   "cell_type": "markdown",
   "metadata": {},
   "source": [
    "# Consignas\n",
    "- 1 Generar un array de 3 dimensiones y mostrar el output en una captura de pantalla.\n",
    "- 2 Ubicar el valor de un elemento en el array de 3 dimensiones con la función correspondiente y compartir el output en una captura de pantalla.\n",
    "- 3 Utilizando append, agregamos 3 valores nuevos al array y compartamos output en una captura de pantalla.\n",
    "- 4 Generar un nuevo array de 3 dimensiones, pero con el formato requerido para que el output en una captura de pantalla pueda mostrarnos un resultado como (3,3) usando shape.\n",
    "- 5 Ahora, con la librería de pandas, crear una serie llamada (marcas_productos) y compartir el output en una captura de pantalla donde pueda mostrarnos la lista.\n",
    "- 6 Generar una nueva serie llamada (color_cantidad) utilizando index para generar o modificar la columna inicial. Luego, compartir el output en una captura de pantalla donde pueda mostrarnos la lista con los nombres de la columna. \"Azul\", \"Blanco\", \"Celeste\", \"Negro\", \"Rojo\".\n",
    "  \n",
    "## Entrega\n",
    "Se debe adjuntar una imagen o screenshot (captura de pantalla) de cada ejercicio que responda a cada pregunta.\n",
    "¡Llegamos al final de la actividad de este módulo! Recordemos guardar las respuestas y luego subirlas haciendo clic en el botón \"Enviar tarea\".\n",
    "Recordemos que es posible consultar las dudas con nuestros compañeros en el foro de la materia o con nuestro tutor."
   ]
  },
  {
   "cell_type": "markdown",
   "metadata": {},
   "source": [
    "### Consigna 1\n",
    "- 1 Generar un array de 3 dimensiones y mostrar el output en una captura de pantalla."
   ]
  },
  {
   "cell_type": "code",
   "execution_count": 32,
   "metadata": {},
   "outputs": [
    {
     "name": "stdout",
     "output_type": "stream",
     "text": [
      "[[[ 1  2  3]\n",
      "  [ 4  5  6]]\n",
      "\n",
      " [[ 7  8  9]\n",
      "  [10 11 12]]]\n"
     ]
    }
   ],
   "source": [
    "import numpy as np\n",
    "three_dimensions_list = [[[1, 2, 3], [4, 5, 6]],[[7, 8, 9], [10, 11, 12]]]\n",
    "array = np.array(three_dimensions_list)\n",
    "print(array)"
   ]
  },
  {
   "cell_type": "markdown",
   "metadata": {},
   "source": [
    "### Consigna 2\n",
    "- 2 - Ubicar el valor de un elemento en el array de 3 dimensiones con la función correspondiente y compartir el output en una captura de pantalla."
   ]
  },
  {
   "cell_type": "code",
   "execution_count": 5,
   "metadata": {},
   "outputs": [
    {
     "name": "stdout",
     "output_type": "stream",
     "text": [
      "1\n"
     ]
    }
   ],
   "source": [
    "element = array[0,0,0]\n",
    "print(element)"
   ]
  },
  {
   "cell_type": "markdown",
   "metadata": {},
   "source": [
    "### Consigna 3\n",
    "- 3 - Utilizando append, agregamos 3 valores nuevos al array y compartamos output en una captura de pantalla."
   ]
  },
  {
   "cell_type": "code",
   "execution_count": 13,
   "metadata": {},
   "outputs": [
    {
     "data": {
      "text/plain": [
       "array([  1,   2,   3,   4,   5,   6,   7,   8,   9,  10,  11,  12, 101,\n",
       "       102, 103])"
      ]
     },
     "execution_count": 13,
     "metadata": {},
     "output_type": "execute_result"
    }
   ],
   "source": [
    "np.append(array, (101, 102, 103))"
   ]
  },
  {
   "cell_type": "markdown",
   "metadata": {},
   "source": [
    "### Consigna 4\n",
    "- 4 - Generar un nuevo array de 3 dimensiones, pero con el formato requerido para que el output en una captura de pantalla pueda mostrarnos un resultado como (3,3) usando shape."
   ]
  },
  {
   "cell_type": "code",
   "execution_count": 26,
   "metadata": {},
   "outputs": [
    {
     "name": "stdout",
     "output_type": "stream",
     "text": [
      "(3, 3)\n",
      "(3, 3, 3)\n"
     ]
    }
   ],
   "source": [
    "new_two_dimensions = np.array([[1, 1, 1], [2, 2, 2], [3, 3, 3]])\n",
    "new_three_dimensions = np.array([[[1, 1, 1], [2, 2, 2], [3, 3, 3]], [[4, 4, 4], [5, 5, 5], [6, 6, 6]], [[7, 7, 7], [8, 8, 8], [9, 9, 9]]])\n",
    "print(new_two_dimensions.shape)\n",
    "print(new_three_dimensions.shape)"
   ]
  },
  {
   "cell_type": "markdown",
   "metadata": {},
   "source": [
    "### Consigna 5\n",
    "- 5 - Ahora, con la librería de pandas, crear una serie llamada (marcas_productos) y compartir el output en una captura de pantalla donde pueda mostrarnos la lista."
   ]
  },
  {
   "cell_type": "code",
   "execution_count": 29,
   "metadata": {},
   "outputs": [
    {
     "name": "stdout",
     "output_type": "stream",
     "text": [
      "Series([], dtype: object)\n"
     ]
    }
   ],
   "source": [
    "import pandas as pd\n",
    "\n",
    "marcas_productos = pd.Series()\n",
    "\n",
    "print(marcas_productos)"
   ]
  },
  {
   "cell_type": "markdown",
   "metadata": {},
   "source": [
    "### Consigna 6\n",
    "- 6 - Generar una nueva serie llamada (color_cantidad) utilizando index para generar o modificar la columna inicial. Luego, compartir el output en una captura de pantalla donde pueda mostrarnos la lista con los nombres de la"
   ]
  },
  {
   "cell_type": "code",
   "execution_count": 30,
   "metadata": {},
   "outputs": [
    {
     "name": "stdout",
     "output_type": "stream",
     "text": [
      "Amarillo    7\n",
      "Azul        5\n",
      "Rojo        3\n",
      "dtype: int64\n"
     ]
    }
   ],
   "source": [
    "color_cantidad = pd.Series([7,5,3],index=['Amarillo','Azul','Rojo'])\n",
    "print(color_cantidad)"
   ]
  },
  {
   "cell_type": "code",
   "execution_count": 33,
   "metadata": {},
   "outputs": [
    {
     "name": "stdout",
     "output_type": "stream",
     "text": [
      "[[20 18 18]\n",
      " [14  9 50]]\n"
     ]
    }
   ],
   "source": [
    "a = np.array([[5, 3, 6], [7, 9, 5]])\n",
    "b = np.array([[4, 6, 3], [2, 1, 10]])\n",
    "\n",
    "print(a*b)"
   ]
  }
 ],
 "metadata": {
  "kernelspec": {
   "display_name": "Python 3",
   "language": "python",
   "name": "python3"
  },
  "language_info": {
   "codemirror_mode": {
    "name": "ipython",
    "version": 3
   },
   "file_extension": ".py",
   "mimetype": "text/x-python",
   "name": "python",
   "nbconvert_exporter": "python",
   "pygments_lexer": "ipython3",
   "version": "3.9.6"
  }
 },
 "nbformat": 4,
 "nbformat_minor": 2
}
